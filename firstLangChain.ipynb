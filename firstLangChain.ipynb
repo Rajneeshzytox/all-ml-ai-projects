{
  "nbformat": 4,
  "nbformat_minor": 0,
  "metadata": {
    "colab": {
      "provenance": [],
      "include_colab_link": true
    },
    "kernelspec": {
      "name": "python3",
      "display_name": "Python 3"
    },
    "language_info": {
      "name": "python"
    }
  },
  "cells": [
    {
      "cell_type": "markdown",
      "metadata": {
        "id": "view-in-github",
        "colab_type": "text"
      },
      "source": [
        "<a href=\"https://colab.research.google.com/github/Rajneeshzytox/all-ml-ai-projects/blob/main/firstLangChain.ipynb\" target=\"_parent\"><img src=\"https://colab.research.google.com/assets/colab-badge.svg\" alt=\"Open In Colab\"/></a>"
      ]
    },
    {
      "cell_type": "code",
      "execution_count": null,
      "metadata": {
        "collapsed": true,
        "id": "1CxbarLhpbEs"
      },
      "outputs": [],
      "source": [
        "# !pip install langchain\n",
        "# !pip install huggingface_hub\n",
        "# !pip install langchain_community"
      ]
    },
    {
      "cell_type": "code",
      "source": [
        "# rajneeshzytox\n",
        "from langchain.llms import HuggingFaceHub\n",
        "from langchain import PromptTemplate, LLMChain\n"
      ],
      "metadata": {
        "id": "_3yxBHzfpkvV"
      },
      "execution_count": null,
      "outputs": []
    },
    {
      "cell_type": "code",
      "source": [
        "prompt = PromptTemplate(\n",
        "    input_variables=['name'],\n",
        "    template='what is the date of birth of {name}'\n",
        ")"
      ],
      "metadata": {
        "id": "dwXNvaELqiYv"
      },
      "execution_count": null,
      "outputs": []
    },
    {
      "cell_type": "code",
      "source": [
        "import os\n",
        "from google.colab import userdata\n",
        "\n",
        "os.environ['HUGGINGFACEHUB_API_TOKEN']=userdata.get('HUGGINGFACEHUB_API_TOKEN')"
      ],
      "metadata": {
        "id": "SV9sH8Y7rajc"
      },
      "execution_count": null,
      "outputs": []
    },
    {
      "cell_type": "code",
      "source": [
        "llm = HuggingFaceHub(repo_id='google/flan-t5-small', model_kwargs={'temperature': 1})"
      ],
      "metadata": {
        "id": "3KXBp9FyrIz2"
      },
      "execution_count": null,
      "outputs": []
    },
    {
      "cell_type": "code",
      "source": [
        "chain = LLMChain(llm=llm, prompt=prompt)"
      ],
      "metadata": {
        "id": "MWXwOdyEskHv"
      },
      "execution_count": null,
      "outputs": []
    },
    {
      "cell_type": "code",
      "source": [
        "chain.run('Virat Kholi')\n"
      ],
      "metadata": {
        "colab": {
          "base_uri": "https://localhost:8080/",
          "height": 35
        },
        "id": "7-0XMQZKs2pk",
        "outputId": "02b40448-2ed2-4601-d8cf-f558d7cc63c4"
      },
      "execution_count": null,
      "outputs": [
        {
          "output_type": "execute_result",
          "data": {
            "text/plain": [
              "'5 October 1891'"
            ],
            "application/vnd.google.colaboratory.intrinsic+json": {
              "type": "string"
            }
          },
          "metadata": {},
          "execution_count": 12
        }
      ]
    }
  ]
}